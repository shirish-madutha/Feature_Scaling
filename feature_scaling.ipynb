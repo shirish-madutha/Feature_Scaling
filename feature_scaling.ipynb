{
 "cells": [
  {
   "cell_type": "markdown",
   "id": "a5228162-7b09-49a1-bda2-10e32fda0b75",
   "metadata": {},
   "source": [
    "# standardization"
   ]
  },
  {
   "cell_type": "code",
   "execution_count": 22,
   "id": "85bc2afe-22c9-4e3d-a915-302198164206",
   "metadata": {},
   "outputs": [],
   "source": [
    "import seaborn as sns\n",
    "import numpy as np"
   ]
  },
  {
   "cell_type": "code",
   "execution_count": 23,
   "id": "2d7266e4-6e20-4b95-9409-01b224cd700a",
   "metadata": {},
   "outputs": [],
   "source": [
    "df=sns.load_dataset(\"tips\")"
   ]
  },
  {
   "cell_type": "code",
   "execution_count": 24,
   "id": "48698017-0a0c-4d03-910b-28d0bd4472f7",
   "metadata": {},
   "outputs": [],
   "source": [
    "total_bill=list(df[\"total_bill\"])\n",
    "mean=np.mean(total_bill)\n",
    "std=np.std(total_bill)"
   ]
  },
  {
   "cell_type": "code",
   "execution_count": 25,
   "id": "a6273642-c429-437b-8499-ca4129651a22",
   "metadata": {},
   "outputs": [
    {
     "data": {
      "text/plain": [
       "(19.78594262295082, 8.884150577771132)"
      ]
     },
     "execution_count": 25,
     "metadata": {},
     "output_type": "execute_result"
    }
   ],
   "source": [
    "mean,std"
   ]
  },
  {
   "cell_type": "code",
   "execution_count": 26,
   "id": "9bab96c0-7702-4537-9d39-f320d6ebeff7",
   "metadata": {},
   "outputs": [],
   "source": [
    "# manual\n",
    "standardization=[]\n",
    "for i in total_bill:\n",
    "    z_score=(i-mean)/std\n",
    "    standardization.append(z_score)"
   ]
  },
  {
   "cell_type": "code",
   "execution_count": 27,
   "id": "880eed38-1de5-4695-bb9e-090b4f4aaadb",
   "metadata": {},
   "outputs": [
    {
     "data": {
      "text/plain": [
       "<AxesSubplot: ylabel='Count'>"
      ]
     },
     "execution_count": 27,
     "metadata": {},
     "output_type": "execute_result"
    },
    {
     "data": {
      "image/png": "[encoded data removed]",
      "text/plain": [
       "<Figure size 640x480 with 1 Axes>"
      ]
     },
     "metadata": {},
     "output_type": "display_data"
    }
   ],
   "source": [
    "sns.histplot(total_bill)"
   ]
  },
  {
   "cell_type": "code",
   "execution_count": 28,
   "id": "70c4f7d3-e77e-4933-bf62-1b1b1aae733d",
   "metadata": {},
   "outputs": [
    {
     "data": {
      "text/plain": [
       "<AxesSubplot: ylabel='Count'>"
      ]
     },
     "execution_count": 28,
     "metadata": {},
     "output_type": "execute_result"
    },
    {
     "data": {
      "image/png": "[encoded data removed]",
      "text/plain": [
       "<Figure size 640x480 with 1 Axes>"
      ]
     },
     "metadata": {},
     "output_type": "display_data"
    }
   ],
   "source": [
    "sns.histplot(standardization)"
   ]
  },
  {
   "cell_type": "code",
   "execution_count": 29,
   "id": "ee3978de-606d-4076-a09a-bd5fec52a981",
   "metadata": {},
   "outputs": [],
   "source": [
    "# module\n",
    "from sklearn.preprocessing import StandardScaler\n",
    "import pandas as pd"
   ]
  },
  {
   "cell_type": "code",
   "execution_count": 30,
   "id": "9f6723c9-1770-49ca-87ed-10a9c61d767c",
   "metadata": {},
   "outputs": [],
   "source": [
    "scaler=StandardScaler()"
   ]
  },
  {
   "cell_type": "code",
   "execution_count": 31,
   "id": "6da35cd4-c0dc-424e-844d-de746f1fac31",
   "metadata": {
    "tags": []
   },
   "outputs": [
    {
     "data": {
      "text/html": [
       "<style>#sk-container-id-2 {color: black;background-color: white;}#sk-container-id-2 pre{padding: 0;}#sk-container-id-2 div.sk-toggleable {background-color: white;}#sk-container-id-2 label.sk-toggleable__label {cursor: pointer;display: block;width: 100%;margin-bottom: 0;padding: 0.3em;box-sizing: border-box;text-align: center;}#sk-container-id-2 label.sk-toggleable__label-arrow:before {content: \"▸\";float: left;margin-right: 0.25em;color: #696969;}#sk-container-id-2 label.sk-toggleable__label-arrow:hover:before {color: black;}#sk-container-id-2 div.sk-estimator:hover label.sk-toggleable__label-arrow:before {color: black;}#sk-container-id-2 div.sk-toggleable__content {max-height: 0;max-width: 0;overflow: hidden;text-align: left;background-color: #f0f8ff;}#sk-container-id-2 div.sk-toggleable__content pre {margin: 0.2em;color: black;border-radius: 0.25em;background-color: #f0f8ff;}#sk-container-id-2 input.sk-toggleable__control:checked~div.sk-toggleable__content {max-height: 200px;max-width: 100%;overflow: auto;}#sk-container-id-2 input.sk-toggleable__control:checked~label.sk-toggleable__label-arrow:before {content: \"▾\";}#sk-container-id-2 div.sk-estimator input.sk-toggleable__control:checked~label.sk-toggleable__label {background-color: #d4ebff;}#sk-container-id-2 div.sk-label input.sk-toggleable__control:checked~label.sk-toggleable__label {background-color: #d4ebff;}#sk-container-id-2 input.sk-hidden--visually {border: 0;clip: rect(1px 1px 1px 1px);clip: rect(1px, 1px, 1px, 1px);height: 1px;margin: -1px;overflow: hidden;padding: 0;position: absolute;width: 1px;}#sk-container-id-2 div.sk-estimator {font-family: monospace;background-color: #f0f8ff;border: 1px dotted black;border-radius: 0.25em;box-sizing: border-box;margin-bottom: 0.5em;}#sk-container-id-2 div.sk-estimator:hover {background-color: #d4ebff;}#sk-container-id-2 div.sk-parallel-item::after {content: \"\";width: 100%;border-bottom: 1px solid gray;flex-grow: 1;}#sk-container-id-2 div.sk-label:hover label.sk-toggleable__label {background-color: #d4ebff;}#sk-container-id-2 div.sk-serial::before {content: \"\";position: absolute;border-left: 1px solid gray;box-sizing: border-box;top: 0;bottom: 0;left: 50%;z-index: 0;}#sk-container-id-2 div.sk-serial {display: flex;flex-direction: column;align-items: center;background-color: white;padding-right: 0.2em;padding-left: 0.2em;position: relative;}#sk-container-id-2 div.sk-item {position: relative;z-index: 1;}#sk-container-id-2 div.sk-parallel {display: flex;align-items: stretch;justify-content: center;background-color: white;position: relative;}#sk-container-id-2 div.sk-item::before, #sk-container-id-2 div.sk-parallel-item::before {content: \"\";position: absolute;border-left: 1px solid gray;box-sizing: border-box;top: 0;bottom: 0;left: 50%;z-index: -1;}#sk-container-id-2 div.sk-parallel-item {display: flex;flex-direction: column;z-index: 1;position: relative;background-color: white;}#sk-container-id-2 div.sk-parallel-item:first-child::after {align-self: flex-end;width: 50%;}#sk-container-id-2 div.sk-parallel-item:last-child::after {align-self: flex-start;width: 50%;}#sk-container-id-2 div.sk-parallel-item:only-child::after {width: 0;}#sk-container-id-2 div.sk-dashed-wrapped {border: 1px dashed gray;margin: 0 0.4em 0.5em 0.4em;box-sizing: border-box;padding-bottom: 0.4em;background-color: white;}#sk-container-id-2 div.sk-label label {font-family: monospace;font-weight: bold;display: inline-block;line-height: 1.2em;}#sk-container-id-2 div.sk-label-container {text-align: center;}#sk-container-id-2 div.sk-container {/* jupyter's `normalize.less` sets `[hidden] { display: none; }` but bootstrap.min.css set `[hidden] { display: none !important; }` so we also need the `!important` here to be able to override the default hidden behavior on the sphinx rendered scikit-learn.org. See: https://github.com/scikit-learn/scikit-learn/issues/21755 */display: inline-block !important;position: relative;}#sk-container-id-2 div.sk-text-repr-fallback {display: none;}</style><div id=\"sk-container-id-2\" class=\"sk-top-container\"><div class=\"sk-text-repr-fallback\"><pre>StandardScaler()</pre><b>In a Jupyter environment, please rerun this cell to show the HTML representation or trust the notebook. <br />On GitHub, the HTML representation is unable to render, please try loading this page with nbviewer.org.</b></div><div class=\"sk-container\" hidden><div class=\"sk-item\"><div class=\"sk-estimator sk-toggleable\"><input class=\"sk-toggleable__control sk-hidden--visually\" id=\"sk-estimator-id-2\" type=\"checkbox\" checked><label for=\"sk-estimator-id-2\" class=\"sk-toggleable__label sk-toggleable__label-arrow\">StandardScaler</label><div class=\"sk-toggleable__content\"><pre>StandardScaler()</pre></div></div></div></div></div>"
      ],
      "text/plain": [
       "StandardScaler()"
      ]
     },
     "execution_count": 31,
     "metadata": {},
     "output_type": "execute_result"
    }
   ],
   "source": [
    "scaler.fit(df[[\"total_bill\"]])"
   ]
  },
  {
   "cell_type": "code",
   "execution_count": 32,
   "id": "f9a86cfd-ac4a-4234-9079-47d174e03498",
   "metadata": {},
   "outputs": [],
   "source": [
    "df=pd.DataFrame(scaler.transform(df[[\"total_bill\"]]), columns=[\"total_bill\"])"
   ]
  },
  {
   "cell_type": "code",
   "execution_count": 33,
   "id": "f3dff992-c825-457b-a4fc-5f74e86644d0",
   "metadata": {},
   "outputs": [
    {
     "data": {
      "text/plain": [
       "<AxesSubplot: ylabel='Count'>"
      ]
     },
     "execution_count": 33,
     "metadata": {},
     "output_type": "execute_result"
    },
    {
     "data": {
      "image/png": "[encoded data removed]",
      "text/plain": [
       "<Figure size 640x480 with 1 Axes>"
      ]
     },
     "metadata": {},
     "output_type": "display_data"
    }
   ],
   "source": [
    "sns.histplot(df)"
   ]
  },
  {
   "cell_type": "markdown",
   "id": "c1f808ad-2263-48e4-ad05-920cc709ea91",
   "metadata": {},
   "source": [
    "# min-max scaling"
   ]
  },
  {
   "cell_type": "code",
   "execution_count": 34,
   "id": "beb2f749-cfd7-49db-9e8d-7e3d70e3ed98",
   "metadata": {},
   "outputs": [],
   "source": [
    "df=sns.load_dataset(\"tips\")"
   ]
  },
  {
   "cell_type": "code",
   "execution_count": 35,
   "id": "19555caf-2c83-4b5a-a43c-8d3155f295f5",
   "metadata": {},
   "outputs": [],
   "source": [
    "from sklearn.preprocessing import MinMaxScaler"
   ]
  },
  {
   "cell_type": "code",
   "execution_count": 36,
   "id": "d809ee0f-1b4a-4a00-b356-d30705d2ecaa",
   "metadata": {},
   "outputs": [],
   "source": [
    "min_max=MinMaxScaler()"
   ]
  },
  {
   "cell_type": "code",
   "execution_count": 37,
   "id": "7ec77814-2168-467a-bbd0-caa14f724aef",
   "metadata": {},
   "outputs": [
    {
     "data": {
      "text/plain": [
       "array([[0.29157939],\n",
       "       [0.1522832 ],\n",
       "       [0.3757855 ],\n",
       "       [0.43171345],\n",
       "       [0.45077503],\n",
       "       [0.46543779],\n",
       "       [0.11939673],\n",
       "       [0.49874319],\n",
       "       [0.25073314],\n",
       "       [0.24528697],\n",
       "       [0.15081693],\n",
       "       [0.67427734],\n",
       "       [0.25869292],\n",
       "       [0.32174277],\n",
       "       [0.24633431],\n",
       "       [0.38772518],\n",
       "       [0.15207373],\n",
       "       [0.27691663],\n",
       "       [0.29116045],\n",
       "       [0.36824466],\n",
       "       [0.31105991],\n",
       "       [0.36070381],\n",
       "       [0.2660243 ],\n",
       "       [0.761416  ],\n",
       "       [0.35085882],\n",
       "       [0.30875576],\n",
       "       [0.21575199],\n",
       "       [0.20150817],\n",
       "       [0.39023879],\n",
       "       [0.34729786],\n",
       "       [0.13573523],\n",
       "       [0.32006703],\n",
       "       [0.25115207],\n",
       "       [0.36908253],\n",
       "       [0.30812736],\n",
       "       [0.43967323],\n",
       "       [0.27733557],\n",
       "       [0.29032258],\n",
       "       [0.32718894],\n",
       "       [0.59069962],\n",
       "       [0.27167993],\n",
       "       [0.30142438],\n",
       "       [0.22769166],\n",
       "       [0.13845832],\n",
       "       [0.57247591],\n",
       "       [0.31881022],\n",
       "       [0.40134059],\n",
       "       [0.6143695 ],\n",
       "       [0.53372434],\n",
       "       [0.31357352],\n",
       "       [0.19836615],\n",
       "       [0.15123586],\n",
       "       [0.66485128],\n",
       "       [0.14390448],\n",
       "       [0.47109342],\n",
       "       [0.34394638],\n",
       "       [0.73188102],\n",
       "       [0.4888982 ],\n",
       "       [0.17113532],\n",
       "       [0.94679514],\n",
       "       [0.36070381],\n",
       "       [0.22496858],\n",
       "       [0.16652702],\n",
       "       [0.31881022],\n",
       "       [0.30414747],\n",
       "       [0.35630499],\n",
       "       [0.28026812],\n",
       "       [0.        ],\n",
       "       [0.359447  ],\n",
       "       [0.25010473],\n",
       "       [0.18747382],\n",
       "       [0.29325513],\n",
       "       [0.49832426],\n",
       "       [0.46522832],\n",
       "       [0.24423963],\n",
       "       [0.15584416],\n",
       "       [0.31105991],\n",
       "       [0.50544617],\n",
       "       [0.4124424 ],\n",
       "       [0.29786343],\n",
       "       [0.34289904],\n",
       "       [0.28466695],\n",
       "       [0.14662757],\n",
       "       [0.6202346 ],\n",
       "       [0.27042313],\n",
       "       [0.66527021],\n",
       "       [0.20863008],\n",
       "       [0.31860075],\n",
       "       [0.45328865],\n",
       "       [0.37892752],\n",
       "       [0.54252199],\n",
       "       [0.40678676],\n",
       "       [0.05613741],\n",
       "       [0.27754504],\n",
       "       [0.41223293],\n",
       "       [0.7771261 ],\n",
       "       [0.50712191],\n",
       "       [0.18768328],\n",
       "       [0.3757855 ],\n",
       "       [0.19669041],\n",
       "       [0.17343946],\n",
       "       [0.25785505],\n",
       "       [0.86363636],\n",
       "       [0.40532049],\n",
       "       [0.37390029],\n",
       "       [0.25743611],\n",
       "       [0.36489317],\n",
       "       [0.46376204],\n",
       "       [0.31776288],\n",
       "       [0.23544198],\n",
       "       [0.22894847],\n",
       "       [0.0875576 ],\n",
       "       [0.73313783],\n",
       "       [0.43736908],\n",
       "       [0.47423544],\n",
       "       [0.29828236],\n",
       "       [0.56263092],\n",
       "       [0.15877671],\n",
       "       [0.196062  ],\n",
       "       [0.44009217],\n",
       "       [0.18056137],\n",
       "       [0.21679933],\n",
       "       [0.23439464],\n",
       "       [0.26979472],\n",
       "       [0.19710934],\n",
       "       [0.55990783],\n",
       "       [0.11416003],\n",
       "       [0.2398408 ],\n",
       "       [0.17406787],\n",
       "       [0.4136992 ],\n",
       "       [0.33535819],\n",
       "       [0.36028488],\n",
       "       [0.16966904],\n",
       "       [0.19250105],\n",
       "       [0.31818182],\n",
       "       [0.11395057],\n",
       "       [0.15207373],\n",
       "       [0.23209049],\n",
       "       [0.27084206],\n",
       "       [0.21135316],\n",
       "       [0.30163385],\n",
       "       [0.65416841],\n",
       "       [0.79849183],\n",
       "       [0.50230415],\n",
       "       [0.27984918],\n",
       "       [0.11059908],\n",
       "       [0.3261416 ],\n",
       "       [0.1843318 ],\n",
       "       [0.140553  ],\n",
       "       [0.09300377],\n",
       "       [0.23041475],\n",
       "       [0.21072476],\n",
       "       [0.29723502],\n",
       "       [0.44993716],\n",
       "       [0.34981148],\n",
       "       [0.56095517],\n",
       "       [0.94470046],\n",
       "       [0.45936322],\n",
       "       [0.21617093],\n",
       "       [0.28110599],\n",
       "       [0.38604943],\n",
       "       [0.20087977],\n",
       "       [0.27524089],\n",
       "       [0.22496858],\n",
       "       [0.30247172],\n",
       "       [0.44930876],\n",
       "       [0.37054881],\n",
       "       [0.59991621],\n",
       "       [0.1575199 ],\n",
       "       [0.15835777],\n",
       "       [1.        ],\n",
       "       [0.26686217],\n",
       "       [0.0875576 ],\n",
       "       [0.60284876],\n",
       "       [0.28801843],\n",
       "       [0.6248429 ],\n",
       "       [0.3104315 ],\n",
       "       [0.23900293],\n",
       "       [0.13678257],\n",
       "       [0.66108085],\n",
       "       [0.66149979],\n",
       "       [0.42438207],\n",
       "       [0.8856305 ],\n",
       "       [0.42103058],\n",
       "       [0.78508588],\n",
       "       [0.36908253],\n",
       "       [0.37348136],\n",
       "       [0.57373272],\n",
       "       [0.31587767],\n",
       "       [0.41956431],\n",
       "       [0.26434855],\n",
       "       [0.35064935],\n",
       "       [0.53142019],\n",
       "       [0.25994973],\n",
       "       [0.2829912 ],\n",
       "       [0.09405111],\n",
       "       [0.1522832 ],\n",
       "       [0.83870968],\n",
       "       [0.20800168],\n",
       "       [0.21868454],\n",
       "       [0.32760788],\n",
       "       [0.20255551],\n",
       "       [0.20800168],\n",
       "       [0.27922078],\n",
       "       [0.36573104],\n",
       "       [0.28068705],\n",
       "       [0.49266862],\n",
       "       [0.74696271],\n",
       "       [0.44407206],\n",
       "       [0.20297444],\n",
       "       [0.565354  ],\n",
       "       [0.47800587],\n",
       "       [0.94805195],\n",
       "       [0.21365731],\n",
       "       [0.52576456],\n",
       "       [0.205907  ],\n",
       "       [0.52534562],\n",
       "       [0.17846669],\n",
       "       [0.09782153],\n",
       "       [0.56702974],\n",
       "       [0.19040637],\n",
       "       [0.21679933],\n",
       "       [0.11541684],\n",
       "       [0.27042313],\n",
       "       [0.21679933],\n",
       "       [0.2764977 ],\n",
       "       [0.1470465 ],\n",
       "       [0.3640553 ],\n",
       "       [0.21386678],\n",
       "       [0.39903645],\n",
       "       [0.43862589],\n",
       "       [0.26434855],\n",
       "       [0.17888563],\n",
       "       [0.16129032],\n",
       "       [0.26099707],\n",
       "       [0.14662757],\n",
       "       [0.19962296],\n",
       "       [0.62337662],\n",
       "       [0.68621701],\n",
       "       [0.5437788 ],\n",
       "       [0.50502723],\n",
       "       [0.41055718],\n",
       "       [0.30896523],\n",
       "       [0.32907415]])"
      ]
     },
     "execution_count": 37,
     "metadata": {},
     "output_type": "execute_result"
    }
   ],
   "source": [
    "min_max.fit_transform(df[[\"total_bill\"]])"
   ]
  },
  {
   "cell_type": "markdown",
   "id": "d4d44961-82cd-4021-9f75-03ec7aeeda75",
   "metadata": {},
   "source": [
    "# unit-vector scaling"
   ]
  },
  {
   "cell_type": "code",
   "execution_count": 38,
   "id": "67344aaa-d231-459b-91d8-eaf71a68273a",
   "metadata": {},
   "outputs": [],
   "source": [
    "df=sns.load_dataset(\"tips\")"
   ]
  },
  {
   "cell_type": "code",
   "execution_count": 39,
   "id": "d8a4f71a-6453-4bdd-81a3-ab5cb06da4ab",
   "metadata": {},
   "outputs": [],
   "source": [
    "from sklearn.preprocessing import normalize"
   ]
  },
  {
   "cell_type": "code",
   "execution_count": 40,
   "id": "91bb7e4f-6d35-4ab6-9ca4-5925beca0d55",
   "metadata": {},
   "outputs": [
    {
     "data": {
      "text/plain": [
       "array([[0.99823771, 0.05934197],\n",
       "       [0.98735707, 0.15851187],\n",
       "       [0.98640661, 0.16432285],\n",
       "       [0.99037159, 0.13843454],\n",
       "       [0.98939488, 0.14525073],\n",
       "       [0.98309589, 0.18309141],\n",
       "       [0.97496878, 0.2223418 ],\n",
       "       [0.99333102, 0.11529735],\n",
       "       [0.99161511, 0.12922644],\n",
       "       [0.97694312, 0.21349975],\n",
       "       [0.98641987, 0.16424323],\n",
       "       [0.99009498, 0.14039917],\n",
       "       [0.99485672, 0.10129216],\n",
       "       [0.98700924, 0.16066347],\n",
       "       [0.97988851, 0.19954574],\n",
       "       [0.98389908, 0.17872495],\n",
       "       [0.9871829 , 0.15959298],\n",
       "       [0.9750328 , 0.22206088],\n",
       "       [0.97938658, 0.20199487],\n",
       "       [0.98709527, 0.1601341 ],\n",
       "       [0.97504726, 0.22199737],\n",
       "       [0.9909398 , 0.13430677],\n",
       "       [0.99014941, 0.14001479],\n",
       "       [0.98201   , 0.18882891],\n",
       "       [0.98737215, 0.15841793],\n",
       "       [0.99147891, 0.1302673 ],\n",
       "       [0.98899596, 0.14794255],\n",
       "       [0.98780711, 0.15568276],\n",
       "       [0.98092686, 0.19437721],\n",
       "       [0.98854552, 0.15092298],\n",
       "       [0.98866899, 0.15011205],\n",
       "       [0.99084659, 0.13499272],\n",
       "       [0.98073067, 0.19536467],\n",
       "       [0.99306186, 0.11759312],\n",
       "       [0.98350502, 0.18088084],\n",
       "       [0.98899056, 0.14797864],\n",
       "       [0.9925654 , 0.1217125 ],\n",
       "       [0.98395349, 0.17842512],\n",
       "       [0.99244848, 0.12266217],\n",
       "       [0.98745639, 0.15789197],\n",
       "       [0.99038917, 0.13830871],\n",
       "       [0.9895835 , 0.14396003],\n",
       "       [0.97674434, 0.21440729],\n",
       "       [0.99083017, 0.1351132 ],\n",
       "       [0.98345319, 0.18116243],\n",
       "       [0.98681354, 0.16186116],\n",
       "       [0.9756262 , 0.21943909],\n",
       "       [0.983282  , 0.18208926],\n",
       "       [0.99743203, 0.07161946],\n",
       "       [0.98645298, 0.16404429],\n",
       "       [0.98070081, 0.19551452],\n",
       "       [0.96952977, 0.24497351],\n",
       "       [0.98902579, 0.14774301],\n",
       "       [0.98790759, 0.15504385],\n",
       "       [0.98588897, 0.16740055],\n",
       "       [0.98416747, 0.17724104],\n",
       "       [0.99689977, 0.07868191],\n",
       "       [0.99839096, 0.05670528],\n",
       "       [0.98796171, 0.15469863],\n",
       "       [0.99041991, 0.13808838],\n",
       "       [0.98771556, 0.15626254],\n",
       "       [0.98967534, 0.14332735],\n",
       "       [0.98423933, 0.17684155],\n",
       "       [0.97951611, 0.20136581],\n",
       "       [0.98892398, 0.14842293],\n",
       "       [0.98791805, 0.15497718],\n",
       "       [0.98891429, 0.14848744],\n",
       "       [0.95082902, 0.30971629],\n",
       "       [0.9951003 , 0.09887057],\n",
       "       [0.99044476, 0.13791003],\n",
       "       [0.98683411, 0.16173571],\n",
       "       [0.9849053 , 0.17309408],\n",
       "       [0.99323616, 0.11611175],\n",
       "       [0.98099635, 0.19402618],\n",
       "       [0.98902973, 0.14771659],\n",
       "       [0.99300147, 0.11810198],\n",
       "       [0.98554889, 0.16939122],\n",
       "       [0.98935914, 0.14549399],\n",
       "       [0.99142462, 0.13067987],\n",
       "       [0.98793839, 0.15484749],\n",
       "       [0.98830106, 0.1525156 ],\n",
       "       [0.97980406, 0.19996001],\n",
       "       [0.98388554, 0.17879946],\n",
       "       [0.98849725, 0.15123887],\n",
       "       [0.99202757, 0.12602102],\n",
       "       [0.98916225, 0.14682655],\n",
       "       [0.98842426, 0.15171516],\n",
       "       [0.97688607, 0.21376063],\n",
       "       [0.9731012 , 0.23037807],\n",
       "       [0.99009867, 0.14037316],\n",
       "       [0.99468088, 0.10300458],\n",
       "       [0.98810609, 0.15377374],\n",
       "       [0.98521175, 0.17134117],\n",
       "       [0.96699774, 0.25478494],\n",
       "       [0.98994949, 0.14142136],\n",
       "       [0.99313879, 0.11694166],\n",
       "       [0.98942047, 0.14507631],\n",
       "       [0.9923159 , 0.12373016],\n",
       "       [0.98995892, 0.14135539],\n",
       "       [0.99283152, 0.11952225],\n",
       "       [0.97659027, 0.21510799],\n",
       "       [0.98150229, 0.19145038],\n",
       "       [0.99841143, 0.05634376],\n",
       "       [0.98816699, 0.15338185],\n",
       "       [0.9815078 , 0.19142217],\n",
       "       [0.99434827, 0.10616739],\n",
       "       [0.98092896, 0.1943666 ],\n",
       "       [0.98582805, 0.16775892],\n",
       "       [0.97940711, 0.20189532],\n",
       "       [0.96308275, 0.26920552],\n",
       "       [0.97780241, 0.20952909],\n",
       "       [0.99062113, 0.1366374 ],\n",
       "       [0.99452547, 0.1044944 ],\n",
       "       [0.99437962, 0.1058734 ],\n",
       "       [0.98811258, 0.15373202],\n",
       "       [0.9801647 , 0.19818466],\n",
       "       [0.98595419, 0.16701596],\n",
       "       [0.99022651, 0.13946852],\n",
       "       [0.98967697, 0.14331605],\n",
       "       [0.99272781, 0.12038062],\n",
       "       [0.98102995, 0.19385622],\n",
       "       [0.99225511, 0.12421674],\n",
       "       [0.98497764, 0.17268191],\n",
       "       [0.99222995, 0.12441755],\n",
       "       [0.98021649, 0.19792833],\n",
       "       [0.99021357, 0.1395603 ],\n",
       "       [0.98524568, 0.17114596],\n",
       "       [0.99064659, 0.1364527 ],\n",
       "       [0.9849053 , 0.17309408],\n",
       "       [0.99546798, 0.09509729],\n",
       "       [0.99692399, 0.07837453],\n",
       "       [0.99039401, 0.13827405],\n",
       "       [0.99110348, 0.13309357],\n",
       "       [0.98695377, 0.16100388],\n",
       "       [0.98452739, 0.17523078],\n",
       "       [0.98938373, 0.14532664],\n",
       "       [0.98176841, 0.19008101],\n",
       "       [0.99015833, 0.13995171],\n",
       "       [0.99227788, 0.12403473],\n",
       "       [0.97885648, 0.20454828],\n",
       "       [0.98051586, 0.19643993],\n",
       "       [0.98145122, 0.19171205],\n",
       "       [0.99271283, 0.12050411],\n",
       "       [0.98334222, 0.18176381],\n",
       "       [0.9903434 , 0.13863602],\n",
       "       [0.98424492, 0.17681046],\n",
       "       [0.9973489 , 0.07276795],\n",
       "       [0.99070276, 0.13604427],\n",
       "       [0.98471252, 0.17418739],\n",
       "       [0.96632031, 0.25734229],\n",
       "       [0.98457858, 0.17494289],\n",
       "       [0.98859692, 0.15058597],\n",
       "       [0.98763272, 0.15678526],\n",
       "       [0.99669804, 0.0811974 ],\n",
       "       [0.99492193, 0.10064966],\n",
       "       [0.98549631, 0.16969685],\n",
       "       [0.99465602, 0.10324435],\n",
       "       [0.98893635, 0.14834045],\n",
       "       [0.98152754, 0.1913209 ],\n",
       "       [0.99272506, 0.12040328],\n",
       "       [0.98700727, 0.1606756 ],\n",
       "       [0.98105465, 0.19373117],\n",
       "       [0.99247442, 0.12245212],\n",
       "       [0.98967534, 0.14332735],\n",
       "       [0.98563832, 0.16887007],\n",
       "       [0.99007829, 0.14051682],\n",
       "       [0.99422916, 0.10727713],\n",
       "       [0.9900802 , 0.14050334],\n",
       "       [0.98863996, 0.15030315],\n",
       "       [0.98275687, 0.18490251],\n",
       "       [0.98117767, 0.1931072 ],\n",
       "       [0.98060452, 0.19599686],\n",
       "       [0.81525026, 0.57910881],\n",
       "       [0.99505264, 0.09934906],\n",
       "       [0.97286824, 0.23135987],\n",
       "       [0.99556187, 0.09410934],\n",
       "       [0.99380899, 0.11110218],\n",
       "       [0.99059557, 0.13682259],\n",
       "       [0.92307692, 0.38461538],\n",
       "       [0.99478667, 0.10197784],\n",
       "       [0.99440752, 0.10561096],\n",
       "       [0.971905  , 0.23537348],\n",
       "       [0.99703505, 0.07694868],\n",
       "       [0.96283011, 0.27010771],\n",
       "       [0.99727446, 0.07378109],\n",
       "       [0.97201936, 0.23490076],\n",
       "       [0.98626609, 0.16516418],\n",
       "       [0.99785133, 0.0655188 ],\n",
       "       [0.98190985, 0.18934901],\n",
       "       [0.98533672, 0.17062108],\n",
       "       [0.99546119, 0.09516837],\n",
       "       [0.97835547, 0.20693132],\n",
       "       [0.99597319, 0.08965159],\n",
       "       [0.99159327, 0.12939395],\n",
       "       [0.97210987, 0.2345259 ],\n",
       "       [0.98233857, 0.18711211],\n",
       "       [0.9818027 , 0.18990381],\n",
       "       [0.99334115, 0.11521006],\n",
       "       [0.9883717 , 0.15205718],\n",
       "       [0.98921918, 0.14644251],\n",
       "       [0.97790174, 0.20906504],\n",
       "       [0.98778182, 0.15584313],\n",
       "       [0.9883717 , 0.15205718],\n",
       "       [0.98857982, 0.15069814],\n",
       "       [0.98154316, 0.19124075],\n",
       "       [0.98130713, 0.19244821],\n",
       "       [0.99187684, 0.12720196],\n",
       "       [0.99701346, 0.077228  ],\n",
       "       [0.99652023, 0.0833513 ],\n",
       "       [0.98506977, 0.17215561],\n",
       "       [0.99779396, 0.06638682],\n",
       "       [0.98071158, 0.19546048],\n",
       "       [0.98309941, 0.18307252],\n",
       "       [0.98271253, 0.18513801],\n",
       "       [0.97439703, 0.22483424],\n",
       "       [0.99638411, 0.08496299],\n",
       "       [0.99436913, 0.10597184],\n",
       "       [0.99172875, 0.12835143],\n",
       "       [0.98313005, 0.18290792],\n",
       "       [0.99478573, 0.10198699],\n",
       "       [0.98402491, 0.17803082],\n",
       "       [0.96798392, 0.25101222],\n",
       "       [0.97586485, 0.21837535],\n",
       "       [0.98283039, 0.18451134],\n",
       "       [0.9931405 , 0.11692712],\n",
       "       [0.98839977, 0.15187458],\n",
       "       [0.98091575, 0.19443325],\n",
       "       [0.98941028, 0.14514576],\n",
       "       [0.97966223, 0.20065371],\n",
       "       [0.99163038, 0.1291092 ],\n",
       "       [0.99654862, 0.08301113],\n",
       "       [0.98220682, 0.18780245],\n",
       "       [0.95991662, 0.28028573],\n",
       "       [0.99081337, 0.13523636],\n",
       "       [0.98184827, 0.18966805],\n",
       "       [0.99238364, 0.12318566],\n",
       "       [0.99686539, 0.0791163 ],\n",
       "       [0.99936557, 0.03561553],\n",
       "       [0.99161275, 0.12924453],\n",
       "       [0.97983374, 0.19981453],\n",
       "       [0.99730368, 0.07338511],\n",
       "       [0.99613098, 0.08788099],\n",
       "       [0.99521256, 0.09773412],\n",
       "       [0.98747998, 0.15774441]])"
      ]
     },
     "execution_count": 40,
     "metadata": {},
     "output_type": "execute_result"
    }
   ],
   "source": [
    "normalize(df[[\"total_bill\",\"tip\"]])"
   ]
  }
 ],
 "metadata": {
  "kernelspec": {
   "display_name": "Python 3 (ipykernel)",
   "language": "python",
   "name": "python3"
  },
  "language_info": {
   "codemirror_mode": {
    "name": "ipython",
    "version": 3
   },
   "file_extension": ".py",
   "mimetype": "text/x-python",
   "name": "python",
   "nbconvert_exporter": "python",
   "pygments_lexer": "ipython3",
   "version": "3.10.8"
  }
 },
 "nbformat": 4,
 "nbformat_minor": 5
}
